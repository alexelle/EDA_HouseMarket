{
 "cells": [
  {
   "cell_type": "code",
   "execution_count": 64,
   "metadata": {},
   "outputs": [],
   "source": [
    "import numpy as np\n",
    "import pandas as pd\n",
    "import seaborn as sns\n",
    "import matplotlib.pyplot as plt\n",
    "from scipy import stats"
   ]
  },
  {
   "cell_type": "code",
   "execution_count": 65,
   "metadata": {},
   "outputs": [
    {
     "data": {
      "text/html": [
       "<div>\n",
       "<style scoped>\n",
       "    .dataframe tbody tr th:only-of-type {\n",
       "        vertical-align: middle;\n",
       "    }\n",
       "\n",
       "    .dataframe tbody tr th {\n",
       "        vertical-align: top;\n",
       "    }\n",
       "\n",
       "    .dataframe thead th {\n",
       "        text-align: right;\n",
       "    }\n",
       "</style>\n",
       "<table border=\"1\" class=\"dataframe\">\n",
       "  <thead>\n",
       "    <tr style=\"text-align: right;\">\n",
       "      <th></th>\n",
       "      <th>Suburb</th>\n",
       "      <th>Address</th>\n",
       "      <th>Rooms</th>\n",
       "      <th>Type</th>\n",
       "      <th>Price</th>\n",
       "      <th>Method</th>\n",
       "      <th>SellerG</th>\n",
       "      <th>Date</th>\n",
       "      <th>Distance</th>\n",
       "      <th>Postcode</th>\n",
       "      <th>...</th>\n",
       "      <th>Bathroom</th>\n",
       "      <th>Car</th>\n",
       "      <th>Landsize</th>\n",
       "      <th>BuildingArea</th>\n",
       "      <th>YearBuilt</th>\n",
       "      <th>CouncilArea</th>\n",
       "      <th>Lattitude</th>\n",
       "      <th>Longtitude</th>\n",
       "      <th>Regionname</th>\n",
       "      <th>Propertycount</th>\n",
       "    </tr>\n",
       "  </thead>\n",
       "  <tbody>\n",
       "    <tr>\n",
       "      <th>0</th>\n",
       "      <td>Abbotsford</td>\n",
       "      <td>85 Turner St</td>\n",
       "      <td>2</td>\n",
       "      <td>h</td>\n",
       "      <td>1480000.0</td>\n",
       "      <td>S</td>\n",
       "      <td>Biggin</td>\n",
       "      <td>3/12/2016</td>\n",
       "      <td>2.5</td>\n",
       "      <td>3067.0</td>\n",
       "      <td>...</td>\n",
       "      <td>1.0</td>\n",
       "      <td>1.0</td>\n",
       "      <td>202.0</td>\n",
       "      <td>NaN</td>\n",
       "      <td>NaN</td>\n",
       "      <td>Yarra</td>\n",
       "      <td>-37.7996</td>\n",
       "      <td>144.9984</td>\n",
       "      <td>Northern Metropolitan</td>\n",
       "      <td>4019.0</td>\n",
       "    </tr>\n",
       "    <tr>\n",
       "      <th>1</th>\n",
       "      <td>Abbotsford</td>\n",
       "      <td>25 Bloomburg St</td>\n",
       "      <td>2</td>\n",
       "      <td>h</td>\n",
       "      <td>1035000.0</td>\n",
       "      <td>S</td>\n",
       "      <td>Biggin</td>\n",
       "      <td>4/02/2016</td>\n",
       "      <td>2.5</td>\n",
       "      <td>3067.0</td>\n",
       "      <td>...</td>\n",
       "      <td>1.0</td>\n",
       "      <td>0.0</td>\n",
       "      <td>156.0</td>\n",
       "      <td>79.0</td>\n",
       "      <td>1900.0</td>\n",
       "      <td>Yarra</td>\n",
       "      <td>-37.8079</td>\n",
       "      <td>144.9934</td>\n",
       "      <td>Northern Metropolitan</td>\n",
       "      <td>4019.0</td>\n",
       "    </tr>\n",
       "    <tr>\n",
       "      <th>2</th>\n",
       "      <td>Abbotsford</td>\n",
       "      <td>5 Charles St</td>\n",
       "      <td>3</td>\n",
       "      <td>h</td>\n",
       "      <td>1465000.0</td>\n",
       "      <td>SP</td>\n",
       "      <td>Biggin</td>\n",
       "      <td>4/03/2017</td>\n",
       "      <td>2.5</td>\n",
       "      <td>3067.0</td>\n",
       "      <td>...</td>\n",
       "      <td>2.0</td>\n",
       "      <td>0.0</td>\n",
       "      <td>134.0</td>\n",
       "      <td>150.0</td>\n",
       "      <td>1900.0</td>\n",
       "      <td>Yarra</td>\n",
       "      <td>-37.8093</td>\n",
       "      <td>144.9944</td>\n",
       "      <td>Northern Metropolitan</td>\n",
       "      <td>4019.0</td>\n",
       "    </tr>\n",
       "    <tr>\n",
       "      <th>3</th>\n",
       "      <td>Abbotsford</td>\n",
       "      <td>40 Federation La</td>\n",
       "      <td>3</td>\n",
       "      <td>h</td>\n",
       "      <td>850000.0</td>\n",
       "      <td>PI</td>\n",
       "      <td>Biggin</td>\n",
       "      <td>4/03/2017</td>\n",
       "      <td>2.5</td>\n",
       "      <td>3067.0</td>\n",
       "      <td>...</td>\n",
       "      <td>2.0</td>\n",
       "      <td>1.0</td>\n",
       "      <td>94.0</td>\n",
       "      <td>NaN</td>\n",
       "      <td>NaN</td>\n",
       "      <td>Yarra</td>\n",
       "      <td>-37.7969</td>\n",
       "      <td>144.9969</td>\n",
       "      <td>Northern Metropolitan</td>\n",
       "      <td>4019.0</td>\n",
       "    </tr>\n",
       "    <tr>\n",
       "      <th>4</th>\n",
       "      <td>Abbotsford</td>\n",
       "      <td>55a Park St</td>\n",
       "      <td>4</td>\n",
       "      <td>h</td>\n",
       "      <td>1600000.0</td>\n",
       "      <td>VB</td>\n",
       "      <td>Nelson</td>\n",
       "      <td>4/06/2016</td>\n",
       "      <td>2.5</td>\n",
       "      <td>3067.0</td>\n",
       "      <td>...</td>\n",
       "      <td>1.0</td>\n",
       "      <td>2.0</td>\n",
       "      <td>120.0</td>\n",
       "      <td>142.0</td>\n",
       "      <td>2014.0</td>\n",
       "      <td>Yarra</td>\n",
       "      <td>-37.8072</td>\n",
       "      <td>144.9941</td>\n",
       "      <td>Northern Metropolitan</td>\n",
       "      <td>4019.0</td>\n",
       "    </tr>\n",
       "  </tbody>\n",
       "</table>\n",
       "<p>5 rows × 21 columns</p>\n",
       "</div>"
      ],
      "text/plain": [
       "       Suburb           Address  Rooms Type      Price Method SellerG  \\\n",
       "0  Abbotsford      85 Turner St      2    h  1480000.0      S  Biggin   \n",
       "1  Abbotsford   25 Bloomburg St      2    h  1035000.0      S  Biggin   \n",
       "2  Abbotsford      5 Charles St      3    h  1465000.0     SP  Biggin   \n",
       "3  Abbotsford  40 Federation La      3    h   850000.0     PI  Biggin   \n",
       "4  Abbotsford       55a Park St      4    h  1600000.0     VB  Nelson   \n",
       "\n",
       "        Date  Distance  Postcode  ...  Bathroom  Car  Landsize  BuildingArea  \\\n",
       "0  3/12/2016       2.5    3067.0  ...       1.0  1.0     202.0           NaN   \n",
       "1  4/02/2016       2.5    3067.0  ...       1.0  0.0     156.0          79.0   \n",
       "2  4/03/2017       2.5    3067.0  ...       2.0  0.0     134.0         150.0   \n",
       "3  4/03/2017       2.5    3067.0  ...       2.0  1.0      94.0           NaN   \n",
       "4  4/06/2016       2.5    3067.0  ...       1.0  2.0     120.0         142.0   \n",
       "\n",
       "   YearBuilt  CouncilArea Lattitude  Longtitude             Regionname  \\\n",
       "0        NaN        Yarra  -37.7996    144.9984  Northern Metropolitan   \n",
       "1     1900.0        Yarra  -37.8079    144.9934  Northern Metropolitan   \n",
       "2     1900.0        Yarra  -37.8093    144.9944  Northern Metropolitan   \n",
       "3        NaN        Yarra  -37.7969    144.9969  Northern Metropolitan   \n",
       "4     2014.0        Yarra  -37.8072    144.9941  Northern Metropolitan   \n",
       "\n",
       "  Propertycount  \n",
       "0        4019.0  \n",
       "1        4019.0  \n",
       "2        4019.0  \n",
       "3        4019.0  \n",
       "4        4019.0  \n",
       "\n",
       "[5 rows x 21 columns]"
      ]
     },
     "execution_count": 65,
     "metadata": {},
     "output_type": "execute_result"
    }
   ],
   "source": [
    "df = pd.read_csv('melb_data.csv')\n",
    "df.head()"
   ]
  },
  {
   "cell_type": "markdown",
   "metadata": {},
   "source": [
    "### 1. Untuk feature/column Landsize, Distance, & Price, hitung dan beri penjelasan (insight) terkait:\n",
    "\n",
    "- Titik Pusat Data (Central Tendency)\n",
    "- Persebaran Data (Dispersion)\n",
    "- Distribusi Data (Distribution)"
   ]
  },
  {
   "cell_type": "markdown",
   "metadata": {},
   "source": [
    "### Central Tendency"
   ]
  },
  {
   "cell_type": "markdown",
   "metadata": {},
   "source": [
    "##### mean - landsize"
   ]
  },
  {
   "cell_type": "code",
   "execution_count": 66,
   "metadata": {},
   "outputs": [
    {
     "data": {
      "text/plain": [
       "558.4161266568483"
      ]
     },
     "execution_count": 66,
     "metadata": {},
     "output_type": "execute_result"
    }
   ],
   "source": [
    "df['Landsize'].mean()"
   ]
  },
  {
   "cell_type": "markdown",
   "metadata": {},
   "source": [
    "#### median - landsize"
   ]
  },
  {
   "cell_type": "code",
   "execution_count": 67,
   "metadata": {},
   "outputs": [
    {
     "data": {
      "text/plain": [
       "440.0"
      ]
     },
     "execution_count": 67,
     "metadata": {},
     "output_type": "execute_result"
    }
   ],
   "source": [
    "df['Landsize'].median()"
   ]
  },
  {
   "cell_type": "markdown",
   "metadata": {},
   "source": [
    "#### mode - landsize"
   ]
  },
  {
   "cell_type": "code",
   "execution_count": 68,
   "metadata": {},
   "outputs": [
    {
     "data": {
      "text/plain": [
       "0    0.0\n",
       "dtype: float64"
      ]
     },
     "execution_count": 68,
     "metadata": {},
     "output_type": "execute_result"
    }
   ],
   "source": [
    "df['Landsize'].mode()"
   ]
  },
  {
   "cell_type": "markdown",
   "metadata": {},
   "source": [
    "##### mean - distance"
   ]
  },
  {
   "cell_type": "code",
   "execution_count": 69,
   "metadata": {},
   "outputs": [
    {
     "data": {
      "text/plain": [
       "10.137776141384117"
      ]
     },
     "execution_count": 69,
     "metadata": {},
     "output_type": "execute_result"
    }
   ],
   "source": [
    "df['Distance'].mean()"
   ]
  },
  {
   "cell_type": "markdown",
   "metadata": {},
   "source": [
    "##### median - landsize"
   ]
  },
  {
   "cell_type": "code",
   "execution_count": 70,
   "metadata": {},
   "outputs": [
    {
     "data": {
      "text/plain": [
       "9.2"
      ]
     },
     "execution_count": 70,
     "metadata": {},
     "output_type": "execute_result"
    }
   ],
   "source": [
    "df['Distance'].median()"
   ]
  },
  {
   "cell_type": "markdown",
   "metadata": {},
   "source": [
    "##### mode - landsize"
   ]
  },
  {
   "cell_type": "code",
   "execution_count": 71,
   "metadata": {},
   "outputs": [
    {
     "data": {
      "text/plain": [
       "0    11.2\n",
       "dtype: float64"
      ]
     },
     "execution_count": 71,
     "metadata": {},
     "output_type": "execute_result"
    }
   ],
   "source": [
    "df['Distance'].mode()"
   ]
  },
  {
   "cell_type": "markdown",
   "metadata": {},
   "source": [
    "##### mean - price"
   ]
  },
  {
   "cell_type": "code",
   "execution_count": 72,
   "metadata": {},
   "outputs": [
    {
     "data": {
      "text/plain": [
       "1075684.079455081"
      ]
     },
     "execution_count": 72,
     "metadata": {},
     "output_type": "execute_result"
    }
   ],
   "source": [
    "df['Price'].mean()"
   ]
  },
  {
   "cell_type": "markdown",
   "metadata": {},
   "source": [
    "##### median - price"
   ]
  },
  {
   "cell_type": "code",
   "execution_count": 73,
   "metadata": {},
   "outputs": [
    {
     "data": {
      "text/plain": [
       "903000.0"
      ]
     },
     "execution_count": 73,
     "metadata": {},
     "output_type": "execute_result"
    }
   ],
   "source": [
    "df['Price'].median()"
   ]
  },
  {
   "cell_type": "markdown",
   "metadata": {},
   "source": [
    "##### mode - price"
   ]
  },
  {
   "cell_type": "code",
   "execution_count": 74,
   "metadata": {},
   "outputs": [
    {
     "data": {
      "text/plain": [
       "0    1100000.0\n",
       "dtype: float64"
      ]
     },
     "execution_count": 74,
     "metadata": {},
     "output_type": "execute_result"
    }
   ],
   "source": [
    "df['Price'].mode()"
   ]
  },
  {
   "cell_type": "markdown",
   "metadata": {},
   "source": [
    "### Dispersion"
   ]
  },
  {
   "cell_type": "markdown",
   "metadata": {},
   "source": [
    "#### Variance"
   ]
  },
  {
   "cell_type": "code",
   "execution_count": 109,
   "metadata": {},
   "outputs": [
    {
     "data": {
      "text/plain": [
       "15925440.991933756"
      ]
     },
     "execution_count": 109,
     "metadata": {},
     "output_type": "execute_result"
    }
   ],
   "source": [
    "df.loc[:,\"Landsize\"].var()"
   ]
  },
  {
   "cell_type": "code",
   "execution_count": 110,
   "metadata": {},
   "outputs": [
    {
     "data": {
      "text/plain": [
       "34.44193245743184"
      ]
     },
     "execution_count": 110,
     "metadata": {},
     "output_type": "execute_result"
    }
   ],
   "source": [
    "df.loc[:,\"Distance\"].var()"
   ]
  },
  {
   "cell_type": "code",
   "execution_count": 111,
   "metadata": {},
   "outputs": [
    {
     "data": {
      "text/plain": [
       "408718202199.9009"
      ]
     },
     "execution_count": 111,
     "metadata": {},
     "output_type": "execute_result"
    }
   ],
   "source": [
    "df.loc[:,\"Price\"].var()"
   ]
  },
  {
   "cell_type": "markdown",
   "metadata": {},
   "source": [
    "#### Standard Deviation"
   ]
  },
  {
   "cell_type": "code",
   "execution_count": 114,
   "metadata": {},
   "outputs": [
    {
     "data": {
      "text/plain": [
       "3990.6692411090344"
      ]
     },
     "execution_count": 114,
     "metadata": {},
     "output_type": "execute_result"
    }
   ],
   "source": [
    "df.loc[:,\"Landsize\"].std()"
   ]
  },
  {
   "cell_type": "code",
   "execution_count": 113,
   "metadata": {},
   "outputs": [
    {
     "data": {
      "text/plain": [
       "5.868724943071692"
      ]
     },
     "execution_count": 113,
     "metadata": {},
     "output_type": "execute_result"
    }
   ],
   "source": [
    "df.loc[:,\"Distance\"].std()"
   ]
  },
  {
   "cell_type": "code",
   "execution_count": 112,
   "metadata": {},
   "outputs": [
    {
     "data": {
      "text/plain": [
       "639310.7242960194"
      ]
     },
     "execution_count": 112,
     "metadata": {},
     "output_type": "execute_result"
    }
   ],
   "source": [
    "df.loc[:,\"Price\"].std()"
   ]
  },
  {
   "cell_type": "markdown",
   "metadata": {},
   "source": [
    "### Distribution"
   ]
  },
  {
   "cell_type": "code",
   "execution_count": 77,
   "metadata": {},
   "outputs": [
    {
     "data": {
      "text/plain": [
       "Rooms             0.376478\n",
       "Price             2.239624\n",
       "Distance          1.676937\n",
       "Postcode          4.076152\n",
       "Bedroom2          0.774082\n",
       "Bathroom          1.377406\n",
       "Car               1.369676\n",
       "Landsize         95.237400\n",
       "BuildingArea     77.691541\n",
       "YearBuilt        -1.541279\n",
       "Lattitude        -0.426695\n",
       "Longtitude       -0.210991\n",
       "Propertycount     1.069339\n",
       "dtype: float64"
      ]
     },
     "execution_count": 77,
     "metadata": {},
     "output_type": "execute_result"
    }
   ],
   "source": [
    "df.skew()"
   ]
  },
  {
   "cell_type": "markdown",
   "metadata": {},
   "source": [
    "Based on the data above, Landsize, Price, dan  Distance datas are highly skewed."
   ]
  },
  {
   "cell_type": "markdown",
   "metadata": {},
   "source": [
    "### 2. Carilah data outlier dan beri penjelasan (insight) pada feature/column Landsize & Distance ! Tambahkan plot untuk menampilkan adanya data outlier!"
   ]
  },
  {
   "cell_type": "code",
   "execution_count": 57,
   "metadata": {},
   "outputs": [],
   "source": [
    "def find_anomalies(data):\n",
    "    anomalies = []\n",
    "    random_data_std = np.std(data)\n",
    "    random_data_mean = np.mean(data)\n",
    "    anomaly_gate = random_data_std * 2\n",
    "    \n",
    "    lower_limit = random_data_mean - anomaly_gate \n",
    "    upper_limit = random_data_mean + anomaly_gate\n",
    "    print(f'batas bawah: {lower_limit}')\n",
    "    print(f'batas atas: {upper_limit}')\n",
    "\n",
    "    for outlier in data:\n",
    "        if outlier > upper_limit or outlier < lower_limit:\n",
    "            anomalies.append(outlier)\n",
    "    return anomalies"
   ]
  },
  {
   "cell_type": "code",
   "execution_count": 58,
   "metadata": {},
   "outputs": [
    {
     "name": "stdout",
     "output_type": "stream",
     "text": [
      "batas bawah: -7422.628486436792\n",
      "batas atas: 8539.460739750488\n"
     ]
    },
    {
     "data": {
      "text/plain": [
       "[75100.0,\n",
       " 15900.0,\n",
       " 10100.0,\n",
       " 8680.0,\n",
       " 15100.0,\n",
       " 37000.0,\n",
       " 21700.0,\n",
       " 41400.0,\n",
       " 14500.0,\n",
       " 17200.0,\n",
       " 17200.0,\n",
       " 15900.0,\n",
       " 21715.0,\n",
       " 17200.0,\n",
       " 9838.0,\n",
       " 37000.0,\n",
       " 8888.0,\n",
       " 38490.0,\n",
       " 14196.0,\n",
       " 76000.0,\n",
       " 17200.0,\n",
       " 433014.0,\n",
       " 40468.0,\n",
       " 16000.0,\n",
       " 17200.0,\n",
       " 12300.0,\n",
       " 20200.0,\n",
       " 14294.0,\n",
       " 9338.0,\n",
       " 44500.0,\n",
       " 9405.0]"
      ]
     },
     "execution_count": 58,
     "metadata": {},
     "output_type": "execute_result"
    }
   ],
   "source": [
    "find_anomalies(df['Landsize'])"
   ]
  },
  {
   "cell_type": "code",
   "execution_count": 59,
   "metadata": {},
   "outputs": [],
   "source": [
    "def find_anomalies(data):\n",
    "    anomalies = []\n",
    "    random_data_std = np.std(data)\n",
    "    random_data_mean = np.mean(data)\n",
    "    anomaly_gate = random_data_std * 2\n",
    "    \n",
    "    lower_limit = random_data_mean - anomaly_gate \n",
    "    upper_limit = random_data_mean + anomaly_gate\n",
    "    print(f'batas bawah: {lower_limit}')\n",
    "    print(f'batas atas: {upper_limit}')\n",
    "\n",
    "    for outlier in data:\n",
    "        if outlier > upper_limit or outlier < lower_limit:\n",
    "            anomalies.append(outlier)\n",
    "    return anomalies"
   ]
  },
  {
   "cell_type": "code",
   "execution_count": 60,
   "metadata": {},
   "outputs": [
    {
     "name": "stdout",
     "output_type": "stream",
     "text": [
      "batas bawah: -1.5992415773817346\n",
      "batas atas: 21.87479386014997\n"
     ]
    },
    {
     "data": {
      "text/plain": [
       "[23.2,\n",
       " 23.2,\n",
       " 35.2,\n",
       " 25.0,\n",
       " 34.7,\n",
       " 23.0,\n",
       " 23.0,\n",
       " 23.0,\n",
       " 24.7,\n",
       " 24.7,\n",
       " 24.7,\n",
       " 22.2,\n",
       " 25.9,\n",
       " 38.0,\n",
       " 36.9,\n",
       " 38.0,\n",
       " 45.9,\n",
       " 32.3,\n",
       " 45.2,\n",
       " 25.2,\n",
       " 25.2,\n",
       " 31.7,\n",
       " 31.7,\n",
       " 25.9,\n",
       " 25.9,\n",
       " 34.1,\n",
       " 34.1,\n",
       " 23.8,\n",
       " 23.5,\n",
       " 35.4,\n",
       " 34.7,\n",
       " 31.7,\n",
       " 31.7,\n",
       " 31.7,\n",
       " 27.0,\n",
       " 25.5,\n",
       " 25.5,\n",
       " 27.2,\n",
       " 23.2,\n",
       " 23.2,\n",
       " 23.2,\n",
       " 27.0,\n",
       " 25.0,\n",
       " 25.0,\n",
       " 25.0,\n",
       " 25.0,\n",
       " 31.2,\n",
       " 31.2,\n",
       " 31.2,\n",
       " 31.2,\n",
       " 27.0,\n",
       " 27.0,\n",
       " 23.0,\n",
       " 24.7,\n",
       " 24.7,\n",
       " 24.7,\n",
       " 22.2,\n",
       " 28.8,\n",
       " 24.8,\n",
       " 24.8,\n",
       " 38.0,\n",
       " 36.9,\n",
       " 32.3,\n",
       " 25.2,\n",
       " 31.7,\n",
       " 29.8,\n",
       " 31.7,\n",
       " 26.5,\n",
       " 26.5,\n",
       " 23.5,\n",
       " 35.4,\n",
       " 31.7,\n",
       " 31.7,\n",
       " 23.2,\n",
       " 23.2,\n",
       " 23.2,\n",
       " 35.2,\n",
       " 34.9,\n",
       " 34.9,\n",
       " 23.0,\n",
       " 23.0,\n",
       " 23.0,\n",
       " 23.0,\n",
       " 23.0,\n",
       " 24.7,\n",
       " 24.7,\n",
       " 22.2,\n",
       " 22.2,\n",
       " 24.8,\n",
       " 45.9,\n",
       " 32.3,\n",
       " 41.0,\n",
       " 31.7,\n",
       " 29.8,\n",
       " 25.9,\n",
       " 25.9,\n",
       " 26.5,\n",
       " 26.5,\n",
       " 22.7,\n",
       " 23.5,\n",
       " 23.5,\n",
       " 35.4,\n",
       " 34.7,\n",
       " 31.7,\n",
       " 23.2,\n",
       " 23.2,\n",
       " 39.8,\n",
       " 35.2,\n",
       " 31.2,\n",
       " 27.0,\n",
       " 23.0,\n",
       " 23.0,\n",
       " 23.0,\n",
       " 24.7,\n",
       " 22.2,\n",
       " 22.2,\n",
       " 22.2,\n",
       " 38.0,\n",
       " 38.0,\n",
       " 38.0,\n",
       " 38.0,\n",
       " 25.2,\n",
       " 31.7,\n",
       " 29.8,\n",
       " 29.8,\n",
       " 31.6,\n",
       " 34.1,\n",
       " 22.7,\n",
       " 47.3,\n",
       " 47.4,\n",
       " 23.5,\n",
       " 34.7,\n",
       " 22.2,\n",
       " 35.4,\n",
       " 34.6,\n",
       " 31.7,\n",
       " 23.2,\n",
       " 35.2,\n",
       " 35.2,\n",
       " 34.9,\n",
       " 27.1,\n",
       " 23.0,\n",
       " 23.0,\n",
       " 23.0,\n",
       " 23.0,\n",
       " 23.0,\n",
       " 24.7,\n",
       " 24.7,\n",
       " 27.7,\n",
       " 22.2,\n",
       " 22.2,\n",
       " 27.0,\n",
       " 27.0,\n",
       " 24.8,\n",
       " 24.8,\n",
       " 38.0,\n",
       " 38.0,\n",
       " 38.0,\n",
       " 38.0,\n",
       " 33.3,\n",
       " 25.2,\n",
       " 23.3,\n",
       " 23.3,\n",
       " 31.7,\n",
       " 29.8,\n",
       " 31.7,\n",
       " 22.7,\n",
       " 22.7,\n",
       " 22.7,\n",
       " 22.7,\n",
       " 35.4,\n",
       " 34.6,\n",
       " 31.7,\n",
       " 29.3,\n",
       " 25.5,\n",
       " 37.5,\n",
       " 23.2,\n",
       " 23.2,\n",
       " 35.2,\n",
       " 35.2,\n",
       " 25.0,\n",
       " 25.0,\n",
       " 34.9,\n",
       " 34.7,\n",
       " 23.0,\n",
       " 23.0,\n",
       " 23.0,\n",
       " 23.0,\n",
       " 23.0,\n",
       " 24.7,\n",
       " 24.7,\n",
       " 24.7,\n",
       " 22.2,\n",
       " 22.2,\n",
       " 27.0,\n",
       " 24.8,\n",
       " 24.8,\n",
       " 38.0,\n",
       " 38.0,\n",
       " 32.3,\n",
       " 33.3,\n",
       " 33.3,\n",
       " 26.0,\n",
       " 31.7,\n",
       " 31.7,\n",
       " 29.8,\n",
       " 28.8,\n",
       " 26.5,\n",
       " 22.7,\n",
       " 23.5,\n",
       " 23.5,\n",
       " 22.2,\n",
       " 35.4,\n",
       " 31.7,\n",
       " 31.7,\n",
       " 31.7,\n",
       " 27.0,\n",
       " 27.2,\n",
       " 23.2,\n",
       " 35.2,\n",
       " 25.0,\n",
       " 45.9,\n",
       " 31.2,\n",
       " 34.9,\n",
       " 27.1,\n",
       " 34.7,\n",
       " 23.0,\n",
       " 23.0,\n",
       " 23.0,\n",
       " 23.0,\n",
       " 23.0,\n",
       " 24.7,\n",
       " 24.7,\n",
       " 27.7,\n",
       " 22.2,\n",
       " 22.2,\n",
       " 24.8,\n",
       " 38.0,\n",
       " 38.0,\n",
       " 45.9,\n",
       " 26.1,\n",
       " 25.2,\n",
       " 31.7,\n",
       " 41.0,\n",
       " 31.7,\n",
       " 25.9,\n",
       " 26.5,\n",
       " 34.1,\n",
       " 23.5,\n",
       " 22.2,\n",
       " 27.0,\n",
       " 25.2,\n",
       " 27.2,\n",
       " 23.2,\n",
       " 23.2,\n",
       " 25.0,\n",
       " 25.0,\n",
       " 31.2,\n",
       " 34.9,\n",
       " 23.0,\n",
       " 23.0,\n",
       " 24.7,\n",
       " 24.7,\n",
       " 24.7,\n",
       " 22.2,\n",
       " 22.2,\n",
       " 22.2,\n",
       " 28.8,\n",
       " 28.5,\n",
       " 24.8,\n",
       " 24.8,\n",
       " 38.0,\n",
       " 38.0,\n",
       " 45.9,\n",
       " 45.9,\n",
       " 25.2,\n",
       " 23.3,\n",
       " 29.8,\n",
       " 29.8,\n",
       " 29.8,\n",
       " 25.9,\n",
       " 26.5,\n",
       " 26.5,\n",
       " 34.1,\n",
       " 34.1,\n",
       " 22.7,\n",
       " 22.7,\n",
       " 43.3,\n",
       " 47.3,\n",
       " 23.5,\n",
       " 23.5,\n",
       " 35.4,\n",
       " 35.4,\n",
       " 35.4,\n",
       " 35.4,\n",
       " 25.5,\n",
       " 39.0,\n",
       " 35.2,\n",
       " 35.2,\n",
       " 31.2,\n",
       " 27.0,\n",
       " 23.0,\n",
       " 24.7,\n",
       " 24.7,\n",
       " 24.7,\n",
       " 24.7,\n",
       " 28.8,\n",
       " 27.0,\n",
       " 24.8,\n",
       " 38.0,\n",
       " 38.0,\n",
       " 31.7,\n",
       " 31.7,\n",
       " 41.0,\n",
       " 41.0,\n",
       " 29.8,\n",
       " 29.8,\n",
       " 29.8,\n",
       " 29.8,\n",
       " 31.7,\n",
       " 22.7,\n",
       " 22.7,\n",
       " 47.3,\n",
       " 22.2,\n",
       " 22.2,\n",
       " 22.2,\n",
       " 31.7,\n",
       " 31.7,\n",
       " 25.5,\n",
       " 31.4,\n",
       " 23.2,\n",
       " 39.0,\n",
       " 35.2,\n",
       " 25.0,\n",
       " 25.0,\n",
       " 29.8,\n",
       " 31.2,\n",
       " 34.9,\n",
       " 27.0,\n",
       " 27.0,\n",
       " 34.7,\n",
       " 23.0,\n",
       " 23.0,\n",
       " 23.0,\n",
       " 23.0,\n",
       " 24.7,\n",
       " 25.9,\n",
       " 25.9,\n",
       " 28.8,\n",
       " 28.8,\n",
       " 27.0,\n",
       " 36.9,\n",
       " 28.5,\n",
       " 28.5,\n",
       " 28.5,\n",
       " 28.5,\n",
       " 24.8,\n",
       " 24.8,\n",
       " 24.8,\n",
       " 38.0,\n",
       " 38.0,\n",
       " 38.0,\n",
       " 36.9,\n",
       " 38.0,\n",
       " 25.2,\n",
       " 25.2,\n",
       " 23.3,\n",
       " 31.7,\n",
       " 41.0,\n",
       " 29.8,\n",
       " 29.8,\n",
       " 31.7,\n",
       " 26.5,\n",
       " 22.7,\n",
       " 35.4,\n",
       " 35.4,\n",
       " 31.7,\n",
       " 31.7,\n",
       " 31.7,\n",
       " 31.7,\n",
       " 35.5,\n",
       " 25.5,\n",
       " 23.2,\n",
       " 35.2,\n",
       " 23.0,\n",
       " 23.0,\n",
       " 23.0,\n",
       " 23.0,\n",
       " 23.0,\n",
       " 24.7,\n",
       " 24.7,\n",
       " 24.7,\n",
       " 22.2,\n",
       " 25.9,\n",
       " 24.8,\n",
       " 38.0,\n",
       " 38.0,\n",
       " 38.0,\n",
       " 38.0,\n",
       " 31.7,\n",
       " 31.7,\n",
       " 31.7,\n",
       " 22.2,\n",
       " 31.7,\n",
       " 31.7,\n",
       " 31.7,\n",
       " 31.7,\n",
       " 23.2,\n",
       " 22.2,\n",
       " 25.9,\n",
       " 24.8,\n",
       " 24.8,\n",
       " 38.0,\n",
       " 38.0,\n",
       " 45.9,\n",
       " 45.9,\n",
       " 26.1,\n",
       " 29.8,\n",
       " 25.9,\n",
       " 26.5,\n",
       " 35.4,\n",
       " 31.7,\n",
       " 31.7,\n",
       " 31.7,\n",
       " 25.5,\n",
       " 25.5,\n",
       " 27.0,\n",
       " 25.0,\n",
       " 34.9,\n",
       " 34.9,\n",
       " 27.0,\n",
       " 23.0,\n",
       " 24.7,\n",
       " 22.2,\n",
       " 28.8,\n",
       " 28.8,\n",
       " 38.0,\n",
       " 38.0,\n",
       " 38.0,\n",
       " 45.9,\n",
       " 32.3,\n",
       " 34.1,\n",
       " 22.2,\n",
       " 22.2,\n",
       " 31.7,\n",
       " 31.7,\n",
       " 31.7,\n",
       " 44.2,\n",
       " 27.0,\n",
       " 23.0,\n",
       " 22.2,\n",
       " 22.2,\n",
       " 27.0,\n",
       " 24.8,\n",
       " 24.8,\n",
       " 38.0,\n",
       " 38.0,\n",
       " 26.0,\n",
       " 26.0,\n",
       " 29.8,\n",
       " 25.9,\n",
       " 25.9,\n",
       " 31.6,\n",
       " 22.2,\n",
       " 31.7,\n",
       " 31.7,\n",
       " 27.2,\n",
       " 23.2,\n",
       " 23.2,\n",
       " 23.2,\n",
       " 35.2,\n",
       " 27.0,\n",
       " 23.0,\n",
       " 23.0,\n",
       " 25.9,\n",
       " 27.0,\n",
       " 27.0,\n",
       " 24.8,\n",
       " 24.8,\n",
       " 38.0,\n",
       " 38.0,\n",
       " 25.2,\n",
       " 31.7,\n",
       " 31.7,\n",
       " 31.7,\n",
       " 26.5,\n",
       " 48.1,\n",
       " 23.8,\n",
       " 31.7,\n",
       " 31.7,\n",
       " 31.7,\n",
       " 31.7,\n",
       " 31.7,\n",
       " 27.0,\n",
       " 25.5,\n",
       " 27.0,\n",
       " 25.0,\n",
       " 34.9,\n",
       " 34.9,\n",
       " 34.9,\n",
       " 27.0,\n",
       " 34.7,\n",
       " 23.0,\n",
       " 23.0,\n",
       " 24.7,\n",
       " 27.0,\n",
       " 24.8,\n",
       " 38.0,\n",
       " 36.9,\n",
       " 38.0,\n",
       " 38.0,\n",
       " 38.0,\n",
       " 33.3,\n",
       " 25.2,\n",
       " 26.0,\n",
       " 41.0,\n",
       " 31.7,\n",
       " 29.8,\n",
       " 34.1,\n",
       " 26.5,\n",
       " 22.2,\n",
       " 35.4,\n",
       " 31.7,\n",
       " 31.7,\n",
       " 31.7,\n",
       " 31.7]"
      ]
     },
     "execution_count": 60,
     "metadata": {},
     "output_type": "execute_result"
    }
   ],
   "source": [
    "find_anomalies(df['Distance'])"
   ]
  },
  {
   "cell_type": "code",
   "execution_count": 123,
   "metadata": {},
   "outputs": [
    {
     "data": {
      "text/plain": [
       "<matplotlib.axes._subplots.AxesSubplot at 0x1a23907190>"
      ]
     },
     "execution_count": 123,
     "metadata": {},
     "output_type": "execute_result"
    },
    {
     "data": {
      "image/png": "[encoded data removed]",
      "text/plain": [
       "<Figure size 432x288 with 1 Axes>"
      ]
     },
     "metadata": {},
     "output_type": "display_data"
    }
   ],
   "source": [
    "sns.boxplot(x='Landsize', data=df)"
   ]
  },
  {
   "cell_type": "code",
   "execution_count": 62,
   "metadata": {},
   "outputs": [
    {
     "data": {
      "text/plain": [
       "<matplotlib.axes._subplots.AxesSubplot at 0x1a22f55d10>"
      ]
     },
     "execution_count": 62,
     "metadata": {},
     "output_type": "execute_result"
    },
    {
     "data": {
      "image/png": "[encoded data removed]",
      "text/plain": [
       "<Figure size 432x288 with 1 Axes>"
      ]
     },
     "metadata": {
      "needs_background": "light"
     },
     "output_type": "display_data"
    }
   ],
   "source": [
    "sns.boxplot(x='Distance', data=df)"
   ]
  },
  {
   "cell_type": "markdown",
   "metadata": {},
   "source": [
    "The two boxplots shows that data for landsizes and distance are both highly skewed."
   ]
  },
  {
   "cell_type": "markdown",
   "metadata": {},
   "source": [
    "### 3.Tampilkan distribusi (sebaran data) dalam bentuk plot yang tepat, untuk feature/column Landsize & YearBuilt. Jelaskan insight apa yang Anda dapatkan di setiap plot tersebut!\n",
    "\n"
   ]
  },
  {
   "cell_type": "code",
   "execution_count": 97,
   "metadata": {},
   "outputs": [
    {
     "data": {
      "text/plain": [
       "<matplotlib.axes._subplots.AxesSubplot at 0x1a255a0a90>"
      ]
     },
     "execution_count": 97,
     "metadata": {},
     "output_type": "execute_result"
    },
    {
     "data": {
      "image/png": "[encoded data removed]",
      "text/plain": [
       "<Figure size 432x288 with 1 Axes>"
      ]
     },
     "metadata": {},
     "output_type": "display_data"
    }
   ],
   "source": [
    "sns.distplot(df['Landsize'])"
   ]
  },
  {
   "cell_type": "code",
   "execution_count": 149,
   "metadata": {},
   "outputs": [
    {
     "data": {
      "text/plain": [
       "<matplotlib.axes._subplots.AxesSubplot at 0x1a35b5fe90>"
      ]
     },
     "execution_count": 149,
     "metadata": {},
     "output_type": "execute_result"
    },
    {
     "data": {
      "image/png": "[encoded data removed]",
      "text/plain": [
       "<Figure size 432x288 with 1 Axes>"
      ]
     },
     "metadata": {},
     "output_type": "display_data"
    }
   ],
   "source": [
    "sns.distplot(df['YearBuilt'])"
   ]
  },
  {
   "cell_type": "markdown",
   "metadata": {},
   "source": []
  },
  {
   "cell_type": "markdown",
   "metadata": {},
   "source": [
    "### 4. Tampilkan perkembangan rata-rata harga (price) rumah berdasarkan tahun pembangunan rumah (Year) menggunakan plot yang tepat! Jelaskan (insight) perkembangan rata-rata harga rumah dari plot yang Anda buat!"
   ]
  },
  {
   "cell_type": "code",
   "execution_count": 147,
   "metadata": {},
   "outputs": [
    {
     "data": {
      "image/png": "[encoded data removed]",
      "text/plain": [
       "<Figure size 720x432 with 1 Axes>"
      ]
     },
     "metadata": {},
     "output_type": "display_data"
    }
   ],
   "source": [
    "plt.figure(figsize = (10, 6))\n",
    "x = df['Price']\n",
    "y = df['YearBuilt'] \n",
    "plt.plot(x, y, 'red')\n",
    "plt.title('Perkembangan Harga Berdasarkan Tahun Pembangunan Rumah', size=20) \n",
    "plt.xlabel('Harga Rumah', size=15) \n",
    "plt.ylabel('Tahun Pembangunan Rumah', size=15) \n",
    "plt.grid() \n",
    "plt.savefig('Perkembangan Harga.png')\n",
    "plt.show()"
   ]
  },
  {
   "cell_type": "markdown",
   "metadata": {},
   "source": [
    "### 5. Di antara Landsize, Distance, & Rooms, manakah feature/column yang memiliki nilai korelasi tertinggi pada feature/column Price? Jelaskan metode korelasi apa yang Anda gunakan, serta apa insight untuk perusahaan setelah mengetahui nilai korelasi tersebut?"
   ]
  },
  {
   "cell_type": "code",
   "execution_count": 125,
   "metadata": {},
   "outputs": [
    {
     "data": {
      "image/png": "[encoded data removed]",
      "text/plain": [
       "<Figure size 720x432 with 1 Axes>"
      ]
     },
     "metadata": {},
     "output_type": "display_data"
    }
   ],
   "source": [
    "plt.figure(figsize = (10,6))\n",
    "plt.scatter(df['Landsize'], df['Price'])\n",
    "plt.title('Correlation Landsize and Price', size=20)\n",
    "plt.xlabel('Price')\n",
    "plt.ylabel('Landsize')\n",
    "plt.savefig('Correlation Landsize and Price')\n",
    "plt.show()"
   ]
  },
  {
   "cell_type": "code",
   "execution_count": 148,
   "metadata": {},
   "outputs": [
    {
     "data": {
      "image/png": "[encoded data removed]",
      "text/plain": [
       "<Figure size 720x432 with 1 Axes>"
      ]
     },
     "metadata": {},
     "output_type": "display_data"
    }
   ],
   "source": [
    "plt.figure(figsize = (10,6))\n",
    "plt.scatter(df['Distance'], df['Price'])\n",
    "plt.title('Correlation Distance and Price', size=20)\n",
    "plt.xlabel('Distance')\n",
    "plt.ylabel('Price')\n",
    "plt.savefig('Correlation Distance and Price')\n",
    "plt.show()"
   ]
  },
  {
   "cell_type": "code",
   "execution_count": 117,
   "metadata": {},
   "outputs": [
    {
     "data": {
      "image/png": "[encoded data removed]",
      "text/plain": [
       "<Figure size 720x432 with 1 Axes>"
      ]
     },
     "metadata": {},
     "output_type": "display_data"
    }
   ],
   "source": [
    "plt.figure(figsize = (10,6))\n",
    "plt.scatter(df['Rooms'], df['Price'])\n",
    "plt.title('Correlation Rooms and Price', size=20)\n",
    "plt.xlabel('Rooms')\n",
    "plt.ylabel('Price')\n",
    "plt.savefig('Correlation Rooms and Price')\n",
    "plt.show()"
   ]
  },
  {
   "cell_type": "markdown",
   "metadata": {},
   "source": [
    "Between Landsize, Distance, and Rooms, Distance seems to be the one with direct correlation with Price. The further the distance, the more affordable the price is. Meanwhile rooms and landsizes doesn't seem to have a clear, direct correlation to the Price of the house."
   ]
  },
  {
   "cell_type": "code",
   "execution_count": null,
   "metadata": {},
   "outputs": [],
   "source": []
  }
 ],
 "metadata": {
  "kernelspec": {
   "display_name": "Python 3",
   "language": "python",
   "name": "python3"
  },
  "language_info": {
   "codemirror_mode": {
    "name": "ipython",
    "version": 3
   },
   "file_extension": ".py",
   "mimetype": "text/x-python",
   "name": "python",
   "nbconvert_exporter": "python",
   "pygments_lexer": "ipython3",
   "version": "3.7.6"
  }
 },
 "nbformat": 4,
 "nbformat_minor": 4
}
